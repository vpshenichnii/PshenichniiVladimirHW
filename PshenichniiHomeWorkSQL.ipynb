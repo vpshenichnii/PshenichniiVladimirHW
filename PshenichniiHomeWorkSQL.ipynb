{
 "cells": [
  {
   "cell_type": "markdown",
   "id": "9140765a-a407-46cc-996e-91e7e875c917",
   "metadata": {},
   "source": [
    "### Импорт всего что нужно (ДЗ со строки 78)"
   ]
  },
  {
   "cell_type": "code",
   "execution_count": 17,
   "id": "82079957-5b1d-410b-b022-280af3cad9de",
   "metadata": {},
   "outputs": [],
   "source": [
    "import numpy as np"
   ]
  },
  {
   "cell_type": "code",
   "execution_count": 19,
   "id": "05c6b4ad-ca7a-49d8-a055-addb8c634426",
   "metadata": {},
   "outputs": [
    {
     "data": {
      "text/plain": [
       "'2.1.1'"
      ]
     },
     "execution_count": 19,
     "metadata": {},
     "output_type": "execute_result"
    }
   ],
   "source": [
    "np.__version__"
   ]
  },
  {
   "cell_type": "code",
   "execution_count": 33,
   "id": "302cd07a-279a-4e30-9a4a-5c163415cf9b",
   "metadata": {},
   "outputs": [
    {
     "name": "stdout",
     "output_type": "stream",
     "text": [
      "Requirement already satisfied: matplotlib in c:\\users\\vpshe\\anaconda3\\lib\\site-packages (3.8.4)\n",
      "Collecting matplotlib\n",
      "  Downloading matplotlib-3.9.2-cp312-cp312-win_amd64.whl.metadata (11 kB)\n",
      "Requirement already satisfied: contourpy>=1.0.1 in c:\\users\\vpshe\\anaconda3\\lib\\site-packages (from matplotlib) (1.2.0)\n",
      "Requirement already satisfied: cycler>=0.10 in c:\\users\\vpshe\\anaconda3\\lib\\site-packages (from matplotlib) (0.11.0)\n",
      "Requirement already satisfied: fonttools>=4.22.0 in c:\\users\\vpshe\\anaconda3\\lib\\site-packages (from matplotlib) (4.51.0)\n",
      "Requirement already satisfied: kiwisolver>=1.3.1 in c:\\users\\vpshe\\anaconda3\\lib\\site-packages (from matplotlib) (1.4.4)\n",
      "Requirement already satisfied: numpy>=1.23 in c:\\users\\vpshe\\anaconda3\\lib\\site-packages (from matplotlib) (2.1.1)\n",
      "Requirement already satisfied: packaging>=20.0 in c:\\users\\vpshe\\anaconda3\\lib\\site-packages (from matplotlib) (23.2)\n",
      "Requirement already satisfied: pillow>=8 in c:\\users\\vpshe\\anaconda3\\lib\\site-packages (from matplotlib) (10.3.0)\n",
      "Requirement already satisfied: pyparsing>=2.3.1 in c:\\users\\vpshe\\anaconda3\\lib\\site-packages (from matplotlib) (3.0.9)\n",
      "Requirement already satisfied: python-dateutil>=2.7 in c:\\users\\vpshe\\anaconda3\\lib\\site-packages (from matplotlib) (2.9.0.post0)\n",
      "Collecting numpy>=1.23 (from matplotlib)\n",
      "  Downloading numpy-1.26.4-cp312-cp312-win_amd64.whl.metadata (61 kB)\n",
      "     ---------------------------------------- 0.0/61.0 kB ? eta -:--:--\n",
      "     ------------ ------------------------- 20.5/61.0 kB 330.3 kB/s eta 0:00:01\n",
      "     ------------------------- ------------ 41.0/61.0 kB 393.8 kB/s eta 0:00:01\n",
      "     -------------------------------------- 61.0/61.0 kB 466.1 kB/s eta 0:00:00\n",
      "Requirement already satisfied: six>=1.5 in c:\\users\\vpshe\\anaconda3\\lib\\site-packages (from python-dateutil>=2.7->matplotlib) (1.16.0)\n",
      "Downloading matplotlib-3.9.2-cp312-cp312-win_amd64.whl (7.8 MB)\n",
      "   ---------------------------------------- 0.0/7.8 MB ? eta -:--:--\n",
      "   ---------------------------------------- 0.1/7.8 MB ? eta -:--:--\n",
      "    --------------------------------------- 0.1/7.8 MB 2.2 MB/s eta 0:00:04\n",
      "   - -------------------------------------- 0.2/7.8 MB 2.3 MB/s eta 0:00:04\n",
      "   -- ------------------------------------- 0.4/7.8 MB 3.1 MB/s eta 0:00:03\n",
      "   --- ------------------------------------ 0.7/7.8 MB 3.2 MB/s eta 0:00:03\n",
      "   --- ------------------------------------ 0.8/7.8 MB 3.2 MB/s eta 0:00:03\n",
      "   ------ --------------------------------- 1.2/7.8 MB 4.1 MB/s eta 0:00:02\n",
      "   ------ --------------------------------- 1.3/7.8 MB 3.9 MB/s eta 0:00:02\n",
      "   -------- ------------------------------- 1.6/7.8 MB 4.3 MB/s eta 0:00:02\n",
      "   --------- ------------------------------ 1.8/7.8 MB 4.1 MB/s eta 0:00:02\n",
      "   ---------- ----------------------------- 2.1/7.8 MB 4.4 MB/s eta 0:00:02\n",
      "   ------------ --------------------------- 2.4/7.8 MB 4.5 MB/s eta 0:00:02\n",
      "   -------------- ------------------------- 2.8/7.8 MB 5.0 MB/s eta 0:00:01\n",
      "   --------------- ------------------------ 3.1/7.8 MB 5.1 MB/s eta 0:00:01\n",
      "   --------------- ------------------------ 3.1/7.8 MB 5.1 MB/s eta 0:00:01\n",
      "   --------------- ------------------------ 3.1/7.8 MB 4.6 MB/s eta 0:00:02\n",
      "   ----------------- ---------------------- 3.5/7.8 MB 4.6 MB/s eta 0:00:01\n",
      "   -------------------- ------------------- 4.1/7.8 MB 5.1 MB/s eta 0:00:01\n",
      "   ---------------------- ----------------- 4.4/7.8 MB 5.2 MB/s eta 0:00:01\n",
      "   ----------------------- ---------------- 4.7/7.8 MB 5.2 MB/s eta 0:00:01\n",
      "   -------------------------- ------------- 5.3/7.8 MB 5.6 MB/s eta 0:00:01\n",
      "   ---------------------------- ----------- 5.5/7.8 MB 5.6 MB/s eta 0:00:01\n",
      "   ----------------------------- ---------- 5.8/7.8 MB 5.7 MB/s eta 0:00:01\n",
      "   ------------------------------- -------- 6.2/7.8 MB 5.8 MB/s eta 0:00:01\n",
      "   ------------------------------- -------- 6.2/7.8 MB 5.8 MB/s eta 0:00:01\n",
      "   ------------------------------- -------- 6.2/7.8 MB 5.8 MB/s eta 0:00:01\n",
      "   ------------------------------------ --- 7.1/7.8 MB 5.9 MB/s eta 0:00:01\n",
      "   ---------------------------------------  7.8/7.8 MB 6.3 MB/s eta 0:00:01\n",
      "   ---------------------------------------- 7.8/7.8 MB 6.0 MB/s eta 0:00:00\n",
      "Downloading numpy-1.26.4-cp312-cp312-win_amd64.whl (15.5 MB)\n",
      "   ---------------------------------------- 0.0/15.5 MB ? eta -:--:--\n",
      "   ---------------------------------------- 0.2/15.5 MB 3.1 MB/s eta 0:00:05\n",
      "   - -------------------------------------- 0.5/15.5 MB 5.6 MB/s eta 0:00:03\n",
      "   - -------------------------------------- 0.7/15.5 MB 5.2 MB/s eta 0:00:03\n",
      "   -- ------------------------------------- 1.1/15.5 MB 6.2 MB/s eta 0:00:03\n",
      "   --- ------------------------------------ 1.4/15.5 MB 6.9 MB/s eta 0:00:03\n",
      "   ---- ----------------------------------- 1.6/15.5 MB 6.2 MB/s eta 0:00:03\n",
      "   ---- ----------------------------------- 1.7/15.5 MB 5.4 MB/s eta 0:00:03\n",
      "   ---- ----------------------------------- 1.8/15.5 MB 5.3 MB/s eta 0:00:03\n",
      "   ----- ---------------------------------- 2.1/15.5 MB 5.2 MB/s eta 0:00:03\n",
      "   ----- ---------------------------------- 2.3/15.5 MB 5.4 MB/s eta 0:00:03\n",
      "   ----- ---------------------------------- 2.3/15.5 MB 5.4 MB/s eta 0:00:03\n",
      "   ----- ---------------------------------- 2.3/15.5 MB 5.4 MB/s eta 0:00:03\n",
      "   ------- -------------------------------- 3.0/15.5 MB 4.9 MB/s eta 0:00:03\n",
      "   ------- -------------------------------- 3.1/15.5 MB 4.8 MB/s eta 0:00:03\n",
      "   -------- ------------------------------- 3.5/15.5 MB 4.9 MB/s eta 0:00:03\n",
      "   --------- ------------------------------ 3.7/15.5 MB 5.2 MB/s eta 0:00:03\n",
      "   ---------- ----------------------------- 3.9/15.5 MB 5.0 MB/s eta 0:00:03\n",
      "   ---------- ----------------------------- 4.2/15.5 MB 5.1 MB/s eta 0:00:03\n",
      "   ------------ --------------------------- 4.8/15.5 MB 5.3 MB/s eta 0:00:03\n",
      "   ------------ --------------------------- 4.8/15.5 MB 5.2 MB/s eta 0:00:03\n",
      "   ------------ --------------------------- 5.0/15.5 MB 5.1 MB/s eta 0:00:03\n",
      "   ------------- -------------------------- 5.4/15.5 MB 5.2 MB/s eta 0:00:02\n",
      "   ------------- -------------------------- 5.4/15.5 MB 5.1 MB/s eta 0:00:02\n",
      "   -------------- ------------------------- 5.8/15.5 MB 5.1 MB/s eta 0:00:02\n",
      "   -------------- ------------------------- 5.8/15.5 MB 5.1 MB/s eta 0:00:02\n",
      "   -------------- ------------------------- 5.8/15.5 MB 4.8 MB/s eta 0:00:03\n",
      "   --------------- ------------------------ 6.0/15.5 MB 4.8 MB/s eta 0:00:02\n",
      "   ---------------- ----------------------- 6.3/15.5 MB 4.8 MB/s eta 0:00:02\n",
      "   ---------------- ----------------------- 6.6/15.5 MB 4.9 MB/s eta 0:00:02\n",
      "   ----------------- ---------------------- 6.8/15.5 MB 4.9 MB/s eta 0:00:02\n",
      "   ------------------ --------------------- 7.2/15.5 MB 5.0 MB/s eta 0:00:02\n",
      "   ------------------- -------------------- 7.4/15.5 MB 5.0 MB/s eta 0:00:02\n",
      "   ------------------- -------------------- 7.4/15.5 MB 4.8 MB/s eta 0:00:02\n",
      "   ------------------- -------------------- 7.6/15.5 MB 4.8 MB/s eta 0:00:02\n",
      "   -------------------- ------------------- 7.8/15.5 MB 4.8 MB/s eta 0:00:02\n",
      "   -------------------- ------------------- 7.9/15.5 MB 4.7 MB/s eta 0:00:02\n",
      "   -------------------- ------------------- 8.1/15.5 MB 4.6 MB/s eta 0:00:02\n",
      "   --------------------- ------------------ 8.3/15.5 MB 4.7 MB/s eta 0:00:02\n",
      "   --------------------- ------------------ 8.5/15.5 MB 4.7 MB/s eta 0:00:02\n",
      "   ---------------------- ----------------- 8.7/15.5 MB 4.7 MB/s eta 0:00:02\n",
      "   ---------------------- ----------------- 8.7/15.5 MB 4.7 MB/s eta 0:00:02\n",
      "   ---------------------- ----------------- 8.7/15.5 MB 4.7 MB/s eta 0:00:02\n",
      "   ---------------------- ----------------- 8.7/15.5 MB 4.7 MB/s eta 0:00:02\n",
      "   ------------------------ --------------- 9.6/15.5 MB 4.7 MB/s eta 0:00:02\n",
      "   ------------------------- -------------- 9.8/15.5 MB 4.6 MB/s eta 0:00:02\n",
      "   ------------------------- -------------- 9.8/15.5 MB 4.6 MB/s eta 0:00:02\n",
      "   ------------------------- -------------- 9.8/15.5 MB 4.5 MB/s eta 0:00:02\n",
      "   --------------------------- ------------ 10.6/15.5 MB 4.7 MB/s eta 0:00:02\n",
      "   --------------------------- ------------ 10.7/15.5 MB 4.8 MB/s eta 0:00:01\n",
      "   --------------------------- ------------ 10.7/15.5 MB 4.8 MB/s eta 0:00:01\n",
      "   ---------------------------- ----------- 11.0/15.5 MB 4.7 MB/s eta 0:00:01\n",
      "   ----------------------------- ---------- 11.4/15.5 MB 4.6 MB/s eta 0:00:01\n",
      "   ----------------------------- ---------- 11.5/15.5 MB 4.5 MB/s eta 0:00:01\n",
      "   ----------------------------- ---------- 11.6/15.5 MB 4.5 MB/s eta 0:00:01\n",
      "   ------------------------------ --------- 11.8/15.5 MB 4.5 MB/s eta 0:00:01\n",
      "   ------------------------------ --------- 11.9/15.5 MB 4.5 MB/s eta 0:00:01\n",
      "   ------------------------------- -------- 12.1/15.5 MB 4.5 MB/s eta 0:00:01\n",
      "   ------------------------------- -------- 12.2/15.5 MB 4.4 MB/s eta 0:00:01\n",
      "   ------------------------------- -------- 12.3/15.5 MB 4.4 MB/s eta 0:00:01\n",
      "   -------------------------------- ------- 12.6/15.5 MB 4.6 MB/s eta 0:00:01\n",
      "   -------------------------------- ------- 12.6/15.5 MB 4.5 MB/s eta 0:00:01\n",
      "   -------------------------------- ------- 12.8/15.5 MB 4.5 MB/s eta 0:00:01\n",
      "   --------------------------------- ------ 13.0/15.5 MB 4.3 MB/s eta 0:00:01\n",
      "   ---------------------------------- ----- 13.2/15.5 MB 4.3 MB/s eta 0:00:01\n",
      "   ---------------------------------- ----- 13.4/15.5 MB 4.3 MB/s eta 0:00:01\n",
      "   ---------------------------------- ----- 13.4/15.5 MB 4.3 MB/s eta 0:00:01\n",
      "   ---------------------------------- ----- 13.5/15.5 MB 4.1 MB/s eta 0:00:01\n",
      "   ----------------------------------- ---- 13.8/15.5 MB 4.1 MB/s eta 0:00:01\n",
      "   ----------------------------------- ---- 13.8/15.5 MB 4.1 MB/s eta 0:00:01\n",
      "   ------------------------------------ --- 14.0/15.5 MB 4.0 MB/s eta 0:00:01\n",
      "   ------------------------------------ --- 14.1/15.5 MB 4.1 MB/s eta 0:00:01\n",
      "   ------------------------------------ --- 14.2/15.5 MB 4.0 MB/s eta 0:00:01\n",
      "   ------------------------------------- -- 14.5/15.5 MB 4.0 MB/s eta 0:00:01\n",
      "   ------------------------------------- -- 14.5/15.5 MB 3.9 MB/s eta 0:00:01\n",
      "   -------------------------------------- - 14.8/15.5 MB 3.9 MB/s eta 0:00:01\n",
      "   -------------------------------------- - 14.9/15.5 MB 3.8 MB/s eta 0:00:01\n",
      "   ---------------------------------------  15.1/15.5 MB 3.9 MB/s eta 0:00:01\n",
      "   ---------------------------------------  15.4/15.5 MB 3.9 MB/s eta 0:00:01\n",
      "   ---------------------------------------  15.5/15.5 MB 3.8 MB/s eta 0:00:01\n",
      "   ---------------------------------------  15.5/15.5 MB 3.8 MB/s eta 0:00:01\n",
      "   ---------------------------------------  15.5/15.5 MB 3.8 MB/s eta 0:00:01\n",
      "   ---------------------------------------  15.5/15.5 MB 3.8 MB/s eta 0:00:01\n",
      "   ---------------------------------------- 15.5/15.5 MB 3.6 MB/s eta 0:00:00\n",
      "Installing collected packages: numpy, matplotlib\n",
      "  Attempting uninstall: numpy\n",
      "    Found existing installation: numpy 2.1.1\n",
      "    Uninstalling numpy-2.1.1:\n",
      "      Successfully uninstalled numpy-2.1.1\n",
      "  Attempting uninstall: matplotlib\n",
      "    Found existing installation: matplotlib 3.8.4\n",
      "    Uninstalling matplotlib-3.8.4:\n",
      "      Successfully uninstalled matplotlib-3.8.4\n",
      "Successfully installed matplotlib-3.9.2 numpy-1.26.4\n",
      "Note: you may need to restart the kernel to use updated packages.\n"
     ]
    },
    {
     "name": "stderr",
     "output_type": "stream",
     "text": [
      "  WARNING: Failed to remove contents in a temporary directory 'C:\\Users\\vpshe\\anaconda3\\Lib\\site-packages\\~umpy.libs'.\n",
      "  You can safely remove it manually.\n",
      "  WARNING: Failed to remove contents in a temporary directory 'C:\\Users\\vpshe\\anaconda3\\Lib\\site-packages\\~umpy'.\n",
      "  You can safely remove it manually.\n"
     ]
    }
   ],
   "source": [
    "pip install matplotlib --upgrade"
   ]
  },
  {
   "cell_type": "code",
   "execution_count": 1,
   "id": "6cc695ca-ded5-46a0-b56b-eb598c095063",
   "metadata": {},
   "outputs": [],
   "source": [
    "import pandas as pd"
   ]
  },
  {
   "cell_type": "code",
   "execution_count": 5,
   "id": "54b5888a-ce6a-4ebb-ad0d-1d21e8af4c87",
   "metadata": {},
   "outputs": [
    {
     "data": {
      "text/plain": [
       "'2.2.2'"
      ]
     },
     "execution_count": 5,
     "metadata": {},
     "output_type": "execute_result"
    }
   ],
   "source": [
    "pd.__version__"
   ]
  },
  {
   "cell_type": "code",
   "execution_count": 7,
   "id": "544aae99-5024-4894-9c85-b8fb37507bce",
   "metadata": {},
   "outputs": [],
   "source": [
    "import psycopg2"
   ]
  },
  {
   "cell_type": "markdown",
   "id": "34be493a-29fc-4497-9755-9ee17e7a92df",
   "metadata": {},
   "source": [
    "### импортируем dataframe из SQL"
   ]
  },
  {
   "cell_type": "code",
   "execution_count": 28,
   "id": "587627b7-3aa4-425b-af91-0e37e1a40759",
   "metadata": {},
   "outputs": [],
   "source": [
    "engine = psycopg2.connect(\"dbname='dvdrental' user='postgres' host='localhost' port='5432' password='1357'\")"
   ]
  },
  {
   "cell_type": "code",
   "execution_count": 63,
   "id": "5f723ee4-1145-4e60-8d32-b760c43ccd17",
   "metadata": {},
   "outputs": [
    {
     "name": "stderr",
     "output_type": "stream",
     "text": [
      "C:\\Users\\vpshe\\AppData\\Local\\Temp\\ipykernel_12108\\453622561.py:1: UserWarning: pandas only supports SQLAlchemy connectable (engine/connection) or database string URI or sqlite3 DBAPI2 connection. Other DBAPI2 objects are not tested. Please consider using SQLAlchemy.\n",
      "  df = pd.read_sql('select * from film', con=engine)\n"
     ]
    }
   ],
   "source": [
    "df = pd.read_sql('select * from film', con=engine)"
   ]
  },
  {
   "cell_type": "code",
   "execution_count": 106,
   "id": "da5fccac-69e7-491c-b205-c1fe12054d8a",
   "metadata": {},
   "outputs": [
    {
     "data": {
      "text/html": [
       "<div>\n",
       "<style scoped>\n",
       "    .dataframe tbody tr th:only-of-type {\n",
       "        vertical-align: middle;\n",
       "    }\n",
       "\n",
       "    .dataframe tbody tr th {\n",
       "        vertical-align: top;\n",
       "    }\n",
       "\n",
       "    .dataframe thead th {\n",
       "        text-align: right;\n",
       "    }\n",
       "</style>\n",
       "<table border=\"1\" class=\"dataframe\">\n",
       "  <thead>\n",
       "    <tr style=\"text-align: right;\">\n",
       "      <th></th>\n",
       "      <th>film_id</th>\n",
       "      <th>title</th>\n",
       "      <th>description</th>\n",
       "      <th>release_year</th>\n",
       "      <th>language_id</th>\n",
       "      <th>rental_duration</th>\n",
       "      <th>rental_rate</th>\n",
       "      <th>length</th>\n",
       "      <th>replacement_cost</th>\n",
       "      <th>rating</th>\n",
       "      <th>last_update</th>\n",
       "      <th>special_features</th>\n",
       "      <th>fulltext</th>\n",
       "    </tr>\n",
       "  </thead>\n",
       "  <tbody>\n",
       "    <tr>\n",
       "      <th>0</th>\n",
       "      <td>133</td>\n",
       "      <td>Chamber Italian</td>\n",
       "      <td>A Fateful Reflection of a Moose And a Husband ...</td>\n",
       "      <td>2006</td>\n",
       "      <td>1</td>\n",
       "      <td>7</td>\n",
       "      <td>4.99</td>\n",
       "      <td>117</td>\n",
       "      <td>14.99</td>\n",
       "      <td>NC-17</td>\n",
       "      <td>2013-05-26 14:50:58.951</td>\n",
       "      <td>[Trailers]</td>\n",
       "      <td>'chamber':1 'fate':4 'husband':11 'italian':2 ...</td>\n",
       "    </tr>\n",
       "    <tr>\n",
       "      <th>1</th>\n",
       "      <td>384</td>\n",
       "      <td>Grosse Wonderful</td>\n",
       "      <td>A Epic Drama of a Cat And a Explorer who must ...</td>\n",
       "      <td>2006</td>\n",
       "      <td>1</td>\n",
       "      <td>5</td>\n",
       "      <td>4.99</td>\n",
       "      <td>49</td>\n",
       "      <td>19.99</td>\n",
       "      <td>R</td>\n",
       "      <td>2013-05-26 14:50:58.951</td>\n",
       "      <td>[Behind the Scenes]</td>\n",
       "      <td>'australia':18 'cat':8 'drama':5 'epic':4 'exp...</td>\n",
       "    </tr>\n",
       "    <tr>\n",
       "      <th>2</th>\n",
       "      <td>8</td>\n",
       "      <td>Airport Pollock</td>\n",
       "      <td>A Epic Tale of a Moose And a Girl who must Con...</td>\n",
       "      <td>2006</td>\n",
       "      <td>1</td>\n",
       "      <td>6</td>\n",
       "      <td>4.99</td>\n",
       "      <td>54</td>\n",
       "      <td>15.99</td>\n",
       "      <td>R</td>\n",
       "      <td>2013-05-26 14:50:58.951</td>\n",
       "      <td>[Trailers]</td>\n",
       "      <td>'airport':1 'ancient':18 'confront':14 'epic':...</td>\n",
       "    </tr>\n",
       "    <tr>\n",
       "      <th>3</th>\n",
       "      <td>98</td>\n",
       "      <td>Bright Encounters</td>\n",
       "      <td>A Fateful Yarn of a Lumberjack And a Feminist ...</td>\n",
       "      <td>2006</td>\n",
       "      <td>1</td>\n",
       "      <td>4</td>\n",
       "      <td>4.99</td>\n",
       "      <td>73</td>\n",
       "      <td>12.99</td>\n",
       "      <td>PG-13</td>\n",
       "      <td>2013-05-26 14:50:58.951</td>\n",
       "      <td>[Trailers]</td>\n",
       "      <td>'boat':20 'bright':1 'conquer':14 'encount':2 ...</td>\n",
       "    </tr>\n",
       "    <tr>\n",
       "      <th>4</th>\n",
       "      <td>1</td>\n",
       "      <td>Academy Dinosaur</td>\n",
       "      <td>A Epic Drama of a Feminist And a Mad Scientist...</td>\n",
       "      <td>2006</td>\n",
       "      <td>1</td>\n",
       "      <td>6</td>\n",
       "      <td>0.99</td>\n",
       "      <td>86</td>\n",
       "      <td>20.99</td>\n",
       "      <td>PG</td>\n",
       "      <td>2013-05-26 14:50:58.951</td>\n",
       "      <td>[Deleted Scenes, Behind the Scenes]</td>\n",
       "      <td>'academi':1 'battl':15 'canadian':20 'dinosaur...</td>\n",
       "    </tr>\n",
       "    <tr>\n",
       "      <th>5</th>\n",
       "      <td>2</td>\n",
       "      <td>Ace Goldfinger</td>\n",
       "      <td>A Astounding Epistle of a Database Administrat...</td>\n",
       "      <td>2006</td>\n",
       "      <td>1</td>\n",
       "      <td>3</td>\n",
       "      <td>4.99</td>\n",
       "      <td>48</td>\n",
       "      <td>12.99</td>\n",
       "      <td>G</td>\n",
       "      <td>2013-05-26 14:50:58.951</td>\n",
       "      <td>[Trailers, Deleted Scenes]</td>\n",
       "      <td>'ace':1 'administr':9 'ancient':19 'astound':4...</td>\n",
       "    </tr>\n",
       "    <tr>\n",
       "      <th>6</th>\n",
       "      <td>3</td>\n",
       "      <td>Adaptation Holes</td>\n",
       "      <td>A Astounding Reflection of a Lumberjack And a ...</td>\n",
       "      <td>2006</td>\n",
       "      <td>1</td>\n",
       "      <td>7</td>\n",
       "      <td>2.99</td>\n",
       "      <td>50</td>\n",
       "      <td>18.99</td>\n",
       "      <td>NC-17</td>\n",
       "      <td>2013-05-26 14:50:58.951</td>\n",
       "      <td>[Trailers, Deleted Scenes]</td>\n",
       "      <td>'adapt':1 'astound':4 'baloon':19 'car':11 'fa...</td>\n",
       "    </tr>\n",
       "    <tr>\n",
       "      <th>7</th>\n",
       "      <td>4</td>\n",
       "      <td>Affair Prejudice</td>\n",
       "      <td>A Fanciful Documentary of a Frisbee And a Lumb...</td>\n",
       "      <td>2006</td>\n",
       "      <td>1</td>\n",
       "      <td>5</td>\n",
       "      <td>2.99</td>\n",
       "      <td>117</td>\n",
       "      <td>26.99</td>\n",
       "      <td>G</td>\n",
       "      <td>2013-05-26 14:50:58.951</td>\n",
       "      <td>[Commentaries, Behind the Scenes]</td>\n",
       "      <td>'affair':1 'chase':14 'documentari':5 'fanci':...</td>\n",
       "    </tr>\n",
       "    <tr>\n",
       "      <th>8</th>\n",
       "      <td>5</td>\n",
       "      <td>African Egg</td>\n",
       "      <td>A Fast-Paced Documentary of a Pastry Chef And ...</td>\n",
       "      <td>2006</td>\n",
       "      <td>1</td>\n",
       "      <td>6</td>\n",
       "      <td>2.99</td>\n",
       "      <td>130</td>\n",
       "      <td>22.99</td>\n",
       "      <td>G</td>\n",
       "      <td>2013-05-26 14:50:58.951</td>\n",
       "      <td>[Deleted Scenes]</td>\n",
       "      <td>'african':1 'chef':11 'dentist':14 'documentar...</td>\n",
       "    </tr>\n",
       "    <tr>\n",
       "      <th>9</th>\n",
       "      <td>6</td>\n",
       "      <td>Agent Truman</td>\n",
       "      <td>A Intrepid Panorama of a Robot And a Boy who m...</td>\n",
       "      <td>2006</td>\n",
       "      <td>1</td>\n",
       "      <td>3</td>\n",
       "      <td>2.99</td>\n",
       "      <td>169</td>\n",
       "      <td>17.99</td>\n",
       "      <td>PG</td>\n",
       "      <td>2013-05-26 14:50:58.951</td>\n",
       "      <td>[Deleted Scenes]</td>\n",
       "      <td>'agent':1 'ancient':19 'boy':11 'china':20 'es...</td>\n",
       "    </tr>\n",
       "    <tr>\n",
       "      <th>10</th>\n",
       "      <td>7</td>\n",
       "      <td>Airplane Sierra</td>\n",
       "      <td>A Touching Saga of a Hunter And a Butler who m...</td>\n",
       "      <td>2006</td>\n",
       "      <td>1</td>\n",
       "      <td>6</td>\n",
       "      <td>4.99</td>\n",
       "      <td>62</td>\n",
       "      <td>28.99</td>\n",
       "      <td>PG-13</td>\n",
       "      <td>2013-05-26 14:50:58.951</td>\n",
       "      <td>[Trailers, Deleted Scenes]</td>\n",
       "      <td>'airplan':1 'boat':20 'butler':11,16 'discov':...</td>\n",
       "    </tr>\n",
       "    <tr>\n",
       "      <th>11</th>\n",
       "      <td>9</td>\n",
       "      <td>Alabama Devil</td>\n",
       "      <td>A Thoughtful Panorama of a Database Administra...</td>\n",
       "      <td>2006</td>\n",
       "      <td>1</td>\n",
       "      <td>3</td>\n",
       "      <td>2.99</td>\n",
       "      <td>114</td>\n",
       "      <td>21.99</td>\n",
       "      <td>PG-13</td>\n",
       "      <td>2013-05-26 14:50:58.951</td>\n",
       "      <td>[Trailers, Deleted Scenes]</td>\n",
       "      <td>'administr':9 'alabama':1 'boat':23 'databas':...</td>\n",
       "    </tr>\n",
       "    <tr>\n",
       "      <th>12</th>\n",
       "      <td>10</td>\n",
       "      <td>Aladdin Calendar</td>\n",
       "      <td>A Action-Packed Tale of a Man And a Lumberjack...</td>\n",
       "      <td>2006</td>\n",
       "      <td>1</td>\n",
       "      <td>6</td>\n",
       "      <td>4.99</td>\n",
       "      <td>63</td>\n",
       "      <td>24.99</td>\n",
       "      <td>NC-17</td>\n",
       "      <td>2013-05-26 14:50:58.951</td>\n",
       "      <td>[Trailers, Deleted Scenes]</td>\n",
       "      <td>'action':5 'action-pack':4 'aladdin':1 'ancien...</td>\n",
       "    </tr>\n",
       "    <tr>\n",
       "      <th>13</th>\n",
       "      <td>11</td>\n",
       "      <td>Alamo Videotape</td>\n",
       "      <td>A Boring Epistle of a Butler And a Cat who mus...</td>\n",
       "      <td>2006</td>\n",
       "      <td>1</td>\n",
       "      <td>6</td>\n",
       "      <td>0.99</td>\n",
       "      <td>126</td>\n",
       "      <td>16.99</td>\n",
       "      <td>G</td>\n",
       "      <td>2013-05-26 14:50:58.951</td>\n",
       "      <td>[Commentaries, Behind the Scenes]</td>\n",
       "      <td>'alamo':1 'bore':4 'butler':8 'cat':11 'chef':...</td>\n",
       "    </tr>\n",
       "    <tr>\n",
       "      <th>14</th>\n",
       "      <td>12</td>\n",
       "      <td>Alaska Phantom</td>\n",
       "      <td>A Fanciful Saga of a Hunter And a Pastry Chef ...</td>\n",
       "      <td>2006</td>\n",
       "      <td>1</td>\n",
       "      <td>6</td>\n",
       "      <td>0.99</td>\n",
       "      <td>136</td>\n",
       "      <td>22.99</td>\n",
       "      <td>PG</td>\n",
       "      <td>2013-05-26 14:50:58.951</td>\n",
       "      <td>[Commentaries, Deleted Scenes]</td>\n",
       "      <td>'alaska':1 'australia':19 'boy':17 'chef':12 '...</td>\n",
       "    </tr>\n",
       "  </tbody>\n",
       "</table>\n",
       "</div>"
      ],
      "text/plain": [
       "    film_id              title  \\\n",
       "0       133    Chamber Italian   \n",
       "1       384   Grosse Wonderful   \n",
       "2         8    Airport Pollock   \n",
       "3        98  Bright Encounters   \n",
       "4         1   Academy Dinosaur   \n",
       "5         2     Ace Goldfinger   \n",
       "6         3   Adaptation Holes   \n",
       "7         4   Affair Prejudice   \n",
       "8         5        African Egg   \n",
       "9         6       Agent Truman   \n",
       "10        7    Airplane Sierra   \n",
       "11        9      Alabama Devil   \n",
       "12       10   Aladdin Calendar   \n",
       "13       11    Alamo Videotape   \n",
       "14       12     Alaska Phantom   \n",
       "\n",
       "                                          description  release_year  \\\n",
       "0   A Fateful Reflection of a Moose And a Husband ...          2006   \n",
       "1   A Epic Drama of a Cat And a Explorer who must ...          2006   \n",
       "2   A Epic Tale of a Moose And a Girl who must Con...          2006   \n",
       "3   A Fateful Yarn of a Lumberjack And a Feminist ...          2006   \n",
       "4   A Epic Drama of a Feminist And a Mad Scientist...          2006   \n",
       "5   A Astounding Epistle of a Database Administrat...          2006   \n",
       "6   A Astounding Reflection of a Lumberjack And a ...          2006   \n",
       "7   A Fanciful Documentary of a Frisbee And a Lumb...          2006   \n",
       "8   A Fast-Paced Documentary of a Pastry Chef And ...          2006   \n",
       "9   A Intrepid Panorama of a Robot And a Boy who m...          2006   \n",
       "10  A Touching Saga of a Hunter And a Butler who m...          2006   \n",
       "11  A Thoughtful Panorama of a Database Administra...          2006   \n",
       "12  A Action-Packed Tale of a Man And a Lumberjack...          2006   \n",
       "13  A Boring Epistle of a Butler And a Cat who mus...          2006   \n",
       "14  A Fanciful Saga of a Hunter And a Pastry Chef ...          2006   \n",
       "\n",
       "    language_id  rental_duration  rental_rate  length  replacement_cost  \\\n",
       "0             1                7         4.99     117             14.99   \n",
       "1             1                5         4.99      49             19.99   \n",
       "2             1                6         4.99      54             15.99   \n",
       "3             1                4         4.99      73             12.99   \n",
       "4             1                6         0.99      86             20.99   \n",
       "5             1                3         4.99      48             12.99   \n",
       "6             1                7         2.99      50             18.99   \n",
       "7             1                5         2.99     117             26.99   \n",
       "8             1                6         2.99     130             22.99   \n",
       "9             1                3         2.99     169             17.99   \n",
       "10            1                6         4.99      62             28.99   \n",
       "11            1                3         2.99     114             21.99   \n",
       "12            1                6         4.99      63             24.99   \n",
       "13            1                6         0.99     126             16.99   \n",
       "14            1                6         0.99     136             22.99   \n",
       "\n",
       "   rating             last_update                     special_features  \\\n",
       "0   NC-17 2013-05-26 14:50:58.951                           [Trailers]   \n",
       "1       R 2013-05-26 14:50:58.951                  [Behind the Scenes]   \n",
       "2       R 2013-05-26 14:50:58.951                           [Trailers]   \n",
       "3   PG-13 2013-05-26 14:50:58.951                           [Trailers]   \n",
       "4      PG 2013-05-26 14:50:58.951  [Deleted Scenes, Behind the Scenes]   \n",
       "5       G 2013-05-26 14:50:58.951           [Trailers, Deleted Scenes]   \n",
       "6   NC-17 2013-05-26 14:50:58.951           [Trailers, Deleted Scenes]   \n",
       "7       G 2013-05-26 14:50:58.951    [Commentaries, Behind the Scenes]   \n",
       "8       G 2013-05-26 14:50:58.951                     [Deleted Scenes]   \n",
       "9      PG 2013-05-26 14:50:58.951                     [Deleted Scenes]   \n",
       "10  PG-13 2013-05-26 14:50:58.951           [Trailers, Deleted Scenes]   \n",
       "11  PG-13 2013-05-26 14:50:58.951           [Trailers, Deleted Scenes]   \n",
       "12  NC-17 2013-05-26 14:50:58.951           [Trailers, Deleted Scenes]   \n",
       "13      G 2013-05-26 14:50:58.951    [Commentaries, Behind the Scenes]   \n",
       "14     PG 2013-05-26 14:50:58.951       [Commentaries, Deleted Scenes]   \n",
       "\n",
       "                                             fulltext  \n",
       "0   'chamber':1 'fate':4 'husband':11 'italian':2 ...  \n",
       "1   'australia':18 'cat':8 'drama':5 'epic':4 'exp...  \n",
       "2   'airport':1 'ancient':18 'confront':14 'epic':...  \n",
       "3   'boat':20 'bright':1 'conquer':14 'encount':2 ...  \n",
       "4   'academi':1 'battl':15 'canadian':20 'dinosaur...  \n",
       "5   'ace':1 'administr':9 'ancient':19 'astound':4...  \n",
       "6   'adapt':1 'astound':4 'baloon':19 'car':11 'fa...  \n",
       "7   'affair':1 'chase':14 'documentari':5 'fanci':...  \n",
       "8   'african':1 'chef':11 'dentist':14 'documentar...  \n",
       "9   'agent':1 'ancient':19 'boy':11 'china':20 'es...  \n",
       "10  'airplan':1 'boat':20 'butler':11,16 'discov':...  \n",
       "11  'administr':9 'alabama':1 'boat':23 'databas':...  \n",
       "12  'action':5 'action-pack':4 'aladdin':1 'ancien...  \n",
       "13  'alamo':1 'bore':4 'butler':8 'cat':11 'chef':...  \n",
       "14  'alaska':1 'australia':19 'boy':17 'chef':12 '...  "
      ]
     },
     "execution_count": 106,
     "metadata": {},
     "output_type": "execute_result"
    }
   ],
   "source": [
    "df.head(15)"
   ]
  },
  {
   "cell_type": "markdown",
   "id": "4cd35302-cc0c-48f7-a3b2-b164d69bfe17",
   "metadata": {},
   "source": [
    "## Непосредственно ДЗ: (я немного отстал по demo_medium поэтому использовал базу dvdrental. Таблицу взяз film т.к. там есть адекватные числовые переменные)"
   ]
  },
  {
   "cell_type": "markdown",
   "id": "63876031-efa3-47b2-82fa-5531b874006f",
   "metadata": {},
   "source": [
    "#### Количество строк:"
   ]
  },
  {
   "cell_type": "code",
   "execution_count": 78,
   "id": "6aa04b4b-e780-4c28-96d9-9ccc0a1eabb6",
   "metadata": {},
   "outputs": [
    {
     "data": {
      "text/plain": [
       "film_id             1000\n",
       "title               1000\n",
       "description         1000\n",
       "release_year        1000\n",
       "language_id         1000\n",
       "rental_duration     1000\n",
       "rental_rate         1000\n",
       "length              1000\n",
       "replacement_cost    1000\n",
       "rating              1000\n",
       "last_update         1000\n",
       "special_features    1000\n",
       "fulltext            1000\n",
       "dtype: int64"
      ]
     },
     "execution_count": 78,
     "metadata": {},
     "output_type": "execute_result"
    }
   ],
   "source": [
    "df.count()"
   ]
  },
  {
   "cell_type": "markdown",
   "id": "83e7e4e8-b9b1-49ce-a336-8a902caef45e",
   "metadata": {},
   "source": [
    "#### Тип данных по столбцам:"
   ]
  },
  {
   "cell_type": "code",
   "execution_count": 71,
   "id": "3f8bb5a1-88f2-4fda-b0bf-34ab5ce44a30",
   "metadata": {},
   "outputs": [
    {
     "data": {
      "text/plain": [
       "film_id                      int64\n",
       "title                       object\n",
       "description                 object\n",
       "release_year                 int64\n",
       "language_id                  int64\n",
       "rental_duration              int64\n",
       "rental_rate                float64\n",
       "length                       int64\n",
       "replacement_cost           float64\n",
       "rating                      object\n",
       "last_update         datetime64[ns]\n",
       "special_features            object\n",
       "fulltext                    object\n",
       "dtype: object"
      ]
     },
     "execution_count": 71,
     "metadata": {},
     "output_type": "execute_result"
    }
   ],
   "source": [
    "df.dtypes"
   ]
  },
  {
   "cell_type": "markdown",
   "id": "8d48acef-34b9-40cb-9896-b2ceefca9c00",
   "metadata": {},
   "source": [
    "#### Кол-во уникальных значение по string"
   ]
  },
  {
   "cell_type": "code",
   "execution_count": 88,
   "id": "2a8321bd-4079-448f-8ed0-bb49e3308699",
   "metadata": {},
   "outputs": [
    {
     "data": {
      "text/plain": [
       "array(['NC-17', 'R', 'PG-13', 'PG', 'G'], dtype=object)"
      ]
     },
     "execution_count": 88,
     "metadata": {},
     "output_type": "execute_result"
    }
   ],
   "source": [
    "df['rating'].unique()"
   ]
  },
  {
   "cell_type": "code",
   "execution_count": 90,
   "id": "34924bad-b009-4679-8634-5a93abdc47b3",
   "metadata": {},
   "outputs": [
    {
     "data": {
      "text/plain": [
       "rating\n",
       "PG-13    223\n",
       "NC-17    210\n",
       "R        195\n",
       "PG       194\n",
       "G        178\n",
       "Name: count, dtype: int64"
      ]
     },
     "execution_count": 90,
     "metadata": {},
     "output_type": "execute_result"
    }
   ],
   "source": [
    "df['rating'].value_counts()"
   ]
  },
  {
   "cell_type": "code",
   "execution_count": 101,
   "id": "da8651a0-72d6-4a33-bc96-d639c201f84c",
   "metadata": {},
   "outputs": [
    {
     "ename": "TypeError",
     "evalue": "unhashable type: 'list'",
     "output_type": "error",
     "traceback": [
      "\u001b[1;31m---------------------------------------------------------------------------\u001b[0m",
      "\u001b[1;31mTypeError\u001b[0m                                 Traceback (most recent call last)",
      "Cell \u001b[1;32mIn[101], line 1\u001b[0m\n\u001b[1;32m----> 1\u001b[0m df[\u001b[38;5;124m'\u001b[39m\u001b[38;5;124mspecial_features\u001b[39m\u001b[38;5;124m'\u001b[39m]\u001b[38;5;241m.\u001b[39munique()\n",
      "File \u001b[1;32m~\\anaconda3\\Lib\\site-packages\\pandas\\core\\series.py:2407\u001b[0m, in \u001b[0;36mSeries.unique\u001b[1;34m(self)\u001b[0m\n\u001b[0;32m   2344\u001b[0m \u001b[38;5;28;01mdef\u001b[39;00m \u001b[38;5;21munique\u001b[39m(\u001b[38;5;28mself\u001b[39m) \u001b[38;5;241m-\u001b[39m\u001b[38;5;241m>\u001b[39m ArrayLike:  \u001b[38;5;66;03m# pylint: disable=useless-parent-delegation\u001b[39;00m\n\u001b[0;32m   2345\u001b[0m \u001b[38;5;250m    \u001b[39m\u001b[38;5;124;03m\"\"\"\u001b[39;00m\n\u001b[0;32m   2346\u001b[0m \u001b[38;5;124;03m    Return unique values of Series object.\u001b[39;00m\n\u001b[0;32m   2347\u001b[0m \n\u001b[1;32m   (...)\u001b[0m\n\u001b[0;32m   2405\u001b[0m \u001b[38;5;124;03m    Categories (3, object): ['a' < 'b' < 'c']\u001b[39;00m\n\u001b[0;32m   2406\u001b[0m \u001b[38;5;124;03m    \"\"\"\u001b[39;00m\n\u001b[1;32m-> 2407\u001b[0m     \u001b[38;5;28;01mreturn\u001b[39;00m \u001b[38;5;28msuper\u001b[39m()\u001b[38;5;241m.\u001b[39munique()\n",
      "File \u001b[1;32m~\\anaconda3\\Lib\\site-packages\\pandas\\core\\base.py:1025\u001b[0m, in \u001b[0;36mIndexOpsMixin.unique\u001b[1;34m(self)\u001b[0m\n\u001b[0;32m   1023\u001b[0m     result \u001b[38;5;241m=\u001b[39m values\u001b[38;5;241m.\u001b[39munique()\n\u001b[0;32m   1024\u001b[0m \u001b[38;5;28;01melse\u001b[39;00m:\n\u001b[1;32m-> 1025\u001b[0m     result \u001b[38;5;241m=\u001b[39m algorithms\u001b[38;5;241m.\u001b[39munique1d(values)\n\u001b[0;32m   1026\u001b[0m \u001b[38;5;28;01mreturn\u001b[39;00m result\n",
      "File \u001b[1;32m~\\anaconda3\\Lib\\site-packages\\pandas\\core\\algorithms.py:401\u001b[0m, in \u001b[0;36munique\u001b[1;34m(values)\u001b[0m\n\u001b[0;32m    307\u001b[0m \u001b[38;5;28;01mdef\u001b[39;00m \u001b[38;5;21munique\u001b[39m(values):\n\u001b[0;32m    308\u001b[0m \u001b[38;5;250m    \u001b[39m\u001b[38;5;124;03m\"\"\"\u001b[39;00m\n\u001b[0;32m    309\u001b[0m \u001b[38;5;124;03m    Return unique values based on a hash table.\u001b[39;00m\n\u001b[0;32m    310\u001b[0m \n\u001b[1;32m   (...)\u001b[0m\n\u001b[0;32m    399\u001b[0m \u001b[38;5;124;03m    array([('a', 'b'), ('b', 'a'), ('a', 'c')], dtype=object)\u001b[39;00m\n\u001b[0;32m    400\u001b[0m \u001b[38;5;124;03m    \"\"\"\u001b[39;00m\n\u001b[1;32m--> 401\u001b[0m     \u001b[38;5;28;01mreturn\u001b[39;00m unique_with_mask(values)\n",
      "File \u001b[1;32m~\\anaconda3\\Lib\\site-packages\\pandas\\core\\algorithms.py:440\u001b[0m, in \u001b[0;36munique_with_mask\u001b[1;34m(values, mask)\u001b[0m\n\u001b[0;32m    438\u001b[0m table \u001b[38;5;241m=\u001b[39m hashtable(\u001b[38;5;28mlen\u001b[39m(values))\n\u001b[0;32m    439\u001b[0m \u001b[38;5;28;01mif\u001b[39;00m mask \u001b[38;5;129;01mis\u001b[39;00m \u001b[38;5;28;01mNone\u001b[39;00m:\n\u001b[1;32m--> 440\u001b[0m     uniques \u001b[38;5;241m=\u001b[39m table\u001b[38;5;241m.\u001b[39munique(values)\n\u001b[0;32m    441\u001b[0m     uniques \u001b[38;5;241m=\u001b[39m _reconstruct_data(uniques, original\u001b[38;5;241m.\u001b[39mdtype, original)\n\u001b[0;32m    442\u001b[0m     \u001b[38;5;28;01mreturn\u001b[39;00m uniques\n",
      "File \u001b[1;32mpandas\\\\_libs\\\\hashtable_class_helper.pxi:7248\u001b[0m, in \u001b[0;36mpandas._libs.hashtable.PyObjectHashTable.unique\u001b[1;34m()\u001b[0m\n",
      "File \u001b[1;32mpandas\\\\_libs\\\\hashtable_class_helper.pxi:7195\u001b[0m, in \u001b[0;36mpandas._libs.hashtable.PyObjectHashTable._unique\u001b[1;34m()\u001b[0m\n",
      "\u001b[1;31mTypeError\u001b[0m: unhashable type: 'list'"
     ]
    }
   ],
   "source": [
    "df['special_features'].unique() \n",
    "# не пойму почему ошибка хотя команда \"df['special_features'].value_counts()\" сработала (см ниже). \n",
    "# Предполагаю что из-за квадратных скобок в значениях по столбцу из-за которых эти значения pyton не смог слепить в массив.\n",
    "# Подскажите пожалуйста как быть в таких случаях?"
   ]
  },
  {
   "cell_type": "code",
   "execution_count": 92,
   "id": "beec71e7-2348-4db4-a53a-729fb791383d",
   "metadata": {},
   "outputs": [
    {
     "data": {
      "text/plain": [
       "special_features\n",
       "[Trailers, Commentaries, Behind the Scenes]                    79\n",
       "[Trailers]                                                     72\n",
       "[Trailers, Commentaries]                                       72\n",
       "[Trailers, Behind the Scenes]                                  72\n",
       "[Deleted Scenes, Behind the Scenes]                            71\n",
       "[Behind the Scenes]                                            70\n",
       "[Commentaries, Behind the Scenes]                              70\n",
       "[Trailers, Deleted Scenes]                                     66\n",
       "[Commentaries, Deleted Scenes, Behind the Scenes]              66\n",
       "[Commentaries, Deleted Scenes]                                 65\n",
       "[Trailers, Commentaries, Deleted Scenes]                       64\n",
       "[Commentaries]                                                 62\n",
       "[Deleted Scenes]                                               61\n",
       "[Trailers, Commentaries, Deleted Scenes, Behind the Scenes]    61\n",
       "[Trailers, Deleted Scenes, Behind the Scenes]                  49\n",
       "Name: count, dtype: int64"
      ]
     },
     "execution_count": 92,
     "metadata": {},
     "output_type": "execute_result"
    }
   ],
   "source": [
    "df['special_features'].value_counts()"
   ]
  },
  {
   "cell_type": "markdown",
   "id": "41b81689-2e43-4577-a2af-6a022f17b568",
   "metadata": {},
   "source": [
    "#### Частота по string"
   ]
  },
  {
   "cell_type": "code",
   "execution_count": 99,
   "id": "cdfaf440-c83d-46aa-b905-9bf1b6f7f6d5",
   "metadata": {},
   "outputs": [
    {
     "data": {
      "text/plain": [
       "rating\n",
       "PG-13    223\n",
       "NC-17    210\n",
       "R        195\n",
       "PG       194\n",
       "G        178\n",
       "Name: count, dtype: int64"
      ]
     },
     "execution_count": 99,
     "metadata": {},
     "output_type": "execute_result"
    }
   ],
   "source": [
    "df['rating'].value_counts()"
   ]
  },
  {
   "cell_type": "markdown",
   "id": "91946a68-6d1f-422f-965d-311ca515c04f",
   "metadata": {},
   "source": [
    "#### min, mean, med, max по int"
   ]
  },
  {
   "cell_type": "code",
   "execution_count": 73,
   "id": "b96be71e-3f9f-4254-b0a5-d0568b6a6e9d",
   "metadata": {},
   "outputs": [
    {
     "data": {
      "text/html": [
       "<div>\n",
       "<style scoped>\n",
       "    .dataframe tbody tr th:only-of-type {\n",
       "        vertical-align: middle;\n",
       "    }\n",
       "\n",
       "    .dataframe tbody tr th {\n",
       "        vertical-align: top;\n",
       "    }\n",
       "\n",
       "    .dataframe thead th {\n",
       "        text-align: right;\n",
       "    }\n",
       "</style>\n",
       "<table border=\"1\" class=\"dataframe\">\n",
       "  <thead>\n",
       "    <tr style=\"text-align: right;\">\n",
       "      <th></th>\n",
       "      <th>film_id</th>\n",
       "      <th>release_year</th>\n",
       "      <th>language_id</th>\n",
       "      <th>rental_duration</th>\n",
       "      <th>rental_rate</th>\n",
       "      <th>length</th>\n",
       "      <th>replacement_cost</th>\n",
       "      <th>last_update</th>\n",
       "    </tr>\n",
       "  </thead>\n",
       "  <tbody>\n",
       "    <tr>\n",
       "      <th>count</th>\n",
       "      <td>1000.000000</td>\n",
       "      <td>1000.0</td>\n",
       "      <td>1000.0</td>\n",
       "      <td>1000.000000</td>\n",
       "      <td>1000.000000</td>\n",
       "      <td>1000.000000</td>\n",
       "      <td>1000.000000</td>\n",
       "      <td>1000</td>\n",
       "    </tr>\n",
       "    <tr>\n",
       "      <th>mean</th>\n",
       "      <td>500.500000</td>\n",
       "      <td>2006.0</td>\n",
       "      <td>1.0</td>\n",
       "      <td>4.985000</td>\n",
       "      <td>2.980000</td>\n",
       "      <td>115.272000</td>\n",
       "      <td>19.984000</td>\n",
       "      <td>2013-05-26 14:50:58.951000320</td>\n",
       "    </tr>\n",
       "    <tr>\n",
       "      <th>min</th>\n",
       "      <td>1.000000</td>\n",
       "      <td>2006.0</td>\n",
       "      <td>1.0</td>\n",
       "      <td>3.000000</td>\n",
       "      <td>0.990000</td>\n",
       "      <td>46.000000</td>\n",
       "      <td>9.990000</td>\n",
       "      <td>2013-05-26 14:50:58.951000</td>\n",
       "    </tr>\n",
       "    <tr>\n",
       "      <th>25%</th>\n",
       "      <td>250.750000</td>\n",
       "      <td>2006.0</td>\n",
       "      <td>1.0</td>\n",
       "      <td>4.000000</td>\n",
       "      <td>0.990000</td>\n",
       "      <td>80.000000</td>\n",
       "      <td>14.990000</td>\n",
       "      <td>2013-05-26 14:50:58.951000064</td>\n",
       "    </tr>\n",
       "    <tr>\n",
       "      <th>50%</th>\n",
       "      <td>500.500000</td>\n",
       "      <td>2006.0</td>\n",
       "      <td>1.0</td>\n",
       "      <td>5.000000</td>\n",
       "      <td>2.990000</td>\n",
       "      <td>114.000000</td>\n",
       "      <td>19.990000</td>\n",
       "      <td>2013-05-26 14:50:58.951000064</td>\n",
       "    </tr>\n",
       "    <tr>\n",
       "      <th>75%</th>\n",
       "      <td>750.250000</td>\n",
       "      <td>2006.0</td>\n",
       "      <td>1.0</td>\n",
       "      <td>6.000000</td>\n",
       "      <td>4.990000</td>\n",
       "      <td>149.250000</td>\n",
       "      <td>24.990000</td>\n",
       "      <td>2013-05-26 14:50:58.951000064</td>\n",
       "    </tr>\n",
       "    <tr>\n",
       "      <th>max</th>\n",
       "      <td>1000.000000</td>\n",
       "      <td>2006.0</td>\n",
       "      <td>1.0</td>\n",
       "      <td>7.000000</td>\n",
       "      <td>4.990000</td>\n",
       "      <td>185.000000</td>\n",
       "      <td>29.990000</td>\n",
       "      <td>2013-05-26 14:50:58.951000</td>\n",
       "    </tr>\n",
       "    <tr>\n",
       "      <th>std</th>\n",
       "      <td>288.819436</td>\n",
       "      <td>0.0</td>\n",
       "      <td>0.0</td>\n",
       "      <td>1.411654</td>\n",
       "      <td>1.646393</td>\n",
       "      <td>40.426332</td>\n",
       "      <td>6.050833</td>\n",
       "      <td>NaN</td>\n",
       "    </tr>\n",
       "  </tbody>\n",
       "</table>\n",
       "</div>"
      ],
      "text/plain": [
       "           film_id  release_year  language_id  rental_duration  rental_rate  \\\n",
       "count  1000.000000        1000.0       1000.0      1000.000000  1000.000000   \n",
       "mean    500.500000        2006.0          1.0         4.985000     2.980000   \n",
       "min       1.000000        2006.0          1.0         3.000000     0.990000   \n",
       "25%     250.750000        2006.0          1.0         4.000000     0.990000   \n",
       "50%     500.500000        2006.0          1.0         5.000000     2.990000   \n",
       "75%     750.250000        2006.0          1.0         6.000000     4.990000   \n",
       "max    1000.000000        2006.0          1.0         7.000000     4.990000   \n",
       "std     288.819436           0.0          0.0         1.411654     1.646393   \n",
       "\n",
       "            length  replacement_cost                    last_update  \n",
       "count  1000.000000       1000.000000                           1000  \n",
       "mean    115.272000         19.984000  2013-05-26 14:50:58.951000320  \n",
       "min      46.000000          9.990000     2013-05-26 14:50:58.951000  \n",
       "25%      80.000000         14.990000  2013-05-26 14:50:58.951000064  \n",
       "50%     114.000000         19.990000  2013-05-26 14:50:58.951000064  \n",
       "75%     149.250000         24.990000  2013-05-26 14:50:58.951000064  \n",
       "max     185.000000         29.990000     2013-05-26 14:50:58.951000  \n",
       "std      40.426332          6.050833                            NaN  "
      ]
     },
     "execution_count": 73,
     "metadata": {},
     "output_type": "execute_result"
    }
   ],
   "source": [
    "df.describe()"
   ]
  },
  {
   "cell_type": "code",
   "execution_count": 115,
   "id": "356d37f2-3691-4f7a-b9f5-49896e8e32db",
   "metadata": {},
   "outputs": [
    {
     "data": {
      "text/plain": [
       "film_id                                                             1\n",
       "title                                                Academy Dinosaur\n",
       "description         A Action-Packed Character Study of a Astronaut...\n",
       "release_year                                                     2006\n",
       "language_id                                                         1\n",
       "rental_duration                                                     3\n",
       "rental_rate                                                      0.99\n",
       "length                                                             46\n",
       "replacement_cost                                                 9.99\n",
       "rating                                                              G\n",
       "last_update                                2013-05-26 14:50:58.951000\n",
       "special_features                                  [Behind the Scenes]\n",
       "fulltext            'abandon':19 'amaz':4 'amus':20 'car':8 'docum...\n",
       "dtype: object"
      ]
     },
     "execution_count": 115,
     "metadata": {},
     "output_type": "execute_result"
    }
   ],
   "source": [
    "df.min()"
   ]
  },
  {
   "cell_type": "code",
   "execution_count": 121,
   "id": "aef465b5-eaec-4fe3-9306-af0fd5a87927",
   "metadata": {},
   "outputs": [
    {
     "data": {
      "text/plain": [
       "film_id                                                          1000\n",
       "title                                                       Zorro Ark\n",
       "description         A Unbelieveable Yarn of a Student And a Databa...\n",
       "release_year                                                     2006\n",
       "language_id                                                         1\n",
       "rental_duration                                                     7\n",
       "rental_rate                                                      4.99\n",
       "length                                                            185\n",
       "replacement_cost                                                29.99\n",
       "rating                                                              R\n",
       "last_update                                2013-05-26 14:50:58.951000\n",
       "special_features        [Trailers, Deleted Scenes, Behind the Scenes]\n",
       "fulltext            'intrepid':4 'kill':15 'malkovich':1 'must':14...\n",
       "dtype: object"
      ]
     },
     "execution_count": 121,
     "metadata": {},
     "output_type": "execute_result"
    }
   ],
   "source": [
    "df.max()"
   ]
  }
 ],
 "metadata": {
  "kernelspec": {
   "display_name": "Python 3 (ipykernel)",
   "language": "python",
   "name": "python3"
  },
  "language_info": {
   "codemirror_mode": {
    "name": "ipython",
    "version": 3
   },
   "file_extension": ".py",
   "mimetype": "text/x-python",
   "name": "python",
   "nbconvert_exporter": "python",
   "pygments_lexer": "ipython3",
   "version": "3.12.4"
  }
 },
 "nbformat": 4,
 "nbformat_minor": 5
}
